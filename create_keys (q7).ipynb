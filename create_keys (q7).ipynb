{
 "cells": [
  {
   "cell_type": "markdown",
   "id": "f503a9f2",
   "metadata": {},
   "source": [
    "create keys"
   ]
  },
  {
   "cell_type": "code",
   "execution_count": 2,
   "id": "f8fa6e1c",
   "metadata": {},
   "outputs": [
    {
     "name": "stdout",
     "output_type": "stream",
     "text": [
      "Collecting rsa\n",
      "  Downloading rsa-4.9-py3-none-any.whl (34 kB)\n",
      "Requirement already satisfied: pyasn1>=0.1.3 in c:\\users\\cslab\\anaconda3\\lib\\site-packages (from rsa) (0.4.8)\n",
      "Installing collected packages: rsa\n",
      "Successfully installed rsa-4.9\n"
     ]
    }
   ],
   "source": [
    "!pip install rsa"
   ]
  },
  {
   "cell_type": "code",
   "execution_count": 3,
   "id": "a3322a15",
   "metadata": {},
   "outputs": [],
   "source": [
    "import rsa"
   ]
  },
  {
   "cell_type": "code",
   "execution_count": 4,
   "id": "f49008ba",
   "metadata": {},
   "outputs": [],
   "source": [
    "public_key,private_key=rsa.newkeys(2048)"
   ]
  },
  {
   "cell_type": "code",
   "execution_count": 5,
   "id": "30795e13",
   "metadata": {},
   "outputs": [],
   "source": [
    "with open('public_key_file.pem','wb') as puk:\n",
    "    puk.write(public_key.save_pkcs1('PEM'))"
   ]
  },
  {
   "cell_type": "code",
   "execution_count": 6,
   "id": "e7980b66",
   "metadata": {},
   "outputs": [],
   "source": [
    "with open('private_key_file.pem','wb') as prk:\n",
    "    prk.write(private_key.save_pkcs1('PEM'))"
   ]
  },
  {
   "cell_type": "code",
   "execution_count": null,
   "id": "4ef40dcc",
   "metadata": {},
   "outputs": [],
   "source": []
  }
 ],
 "metadata": {
  "kernelspec": {
   "display_name": "Python 3 (ipykernel)",
   "language": "python",
   "name": "python3"
  },
  "language_info": {
   "codemirror_mode": {
    "name": "ipython",
    "version": 3
   },
   "file_extension": ".py",
   "mimetype": "text/x-python",
   "name": "python",
   "nbconvert_exporter": "python",
   "pygments_lexer": "ipython3",
   "version": "3.9.13"
  }
 },
 "nbformat": 4,
 "nbformat_minor": 5
}
