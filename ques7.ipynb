{
 "cells": [
  {
   "cell_type": "markdown",
   "id": "a2e15497",
   "metadata": {},
   "source": [
    "sign"
   ]
  },
  {
   "cell_type": "code",
   "execution_count": 4,
   "id": "ef5a26dd",
   "metadata": {},
   "outputs": [],
   "source": [
    "import rsa"
   ]
  },
  {
   "cell_type": "code",
   "execution_count": 5,
   "id": "887e2855",
   "metadata": {},
   "outputs": [],
   "source": [
    "with open('samplepdf.pdf','rb') as f:\n",
    "    pdf=f.read()"
   ]
  },
  {
   "cell_type": "code",
   "execution_count": 6,
   "id": "446016c2",
   "metadata": {},
   "outputs": [],
   "source": [
    "with open('private_key_file.pem','rb') as pr:\n",
    "    private_key=rsa.PrivateKey.load_pkcs1(pr.read())"
   ]
  },
  {
   "cell_type": "code",
   "execution_count": 7,
   "id": "ddfa2c8c",
   "metadata": {},
   "outputs": [],
   "source": [
    "signature_file=rsa.sign(pdf,private_key,'SHA-256')"
   ]
  },
  {
   "cell_type": "code",
   "execution_count": 8,
   "id": "3a327b67",
   "metadata": {},
   "outputs": [
    {
     "name": "stdout",
     "output_type": "stream",
     "text": [
      "256\n"
     ]
    }
   ],
   "source": [
    "print(len(signature_file))"
   ]
  },
  {
   "cell_type": "code",
   "execution_count": 9,
   "id": "9e38b060",
   "metadata": {},
   "outputs": [],
   "source": [
    "with open('signature_file','wb') as sf:\n",
    "    sf.write(signature_file)"
   ]
  },
  {
   "cell_type": "code",
   "execution_count": null,
   "id": "6b18131e",
   "metadata": {},
   "outputs": [],
   "source": []
  }
 ],
 "metadata": {
  "kernelspec": {
   "display_name": "Python 3 (ipykernel)",
   "language": "python",
   "name": "python3"
  },
  "language_info": {
   "codemirror_mode": {
    "name": "ipython",
    "version": 3
   },
   "file_extension": ".py",
   "mimetype": "text/x-python",
   "name": "python",
   "nbconvert_exporter": "python",
   "pygments_lexer": "ipython3",
   "version": "3.11.5"
  }
 },
 "nbformat": 4,
 "nbformat_minor": 5
}
